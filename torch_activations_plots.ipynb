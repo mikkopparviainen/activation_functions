{
 "cells": [
  {
   "cell_type": "markdown",
   "id": "2677c1ce",
   "metadata": {},
   "source": [
    "# Explores activation functions provided in pytorch "
   ]
  },
  {
   "cell_type": "code",
   "execution_count": null,
   "id": "1da380f5",
   "metadata": {},
   "outputs": [],
   "source": [
    "# Some hello world code\n",
    "\n",
    "import matplotlib.pyplot as plt\n",
    "%matplotlib notebook\n",
    "import numpy as np\n",
    "import logging\n",
    "\n",
    "fs = 250\n",
    "f = 5\n",
    "T = 2\n",
    "\n",
    "def pp(f, T, fs):\n",
    "    t = np.linspace(0,T,fs)\n",
    "    s = np.sin(2*np.pi*f*t)\n",
    "    return s, t\n",
    "\n",
    "if __name__ == \"__main__\":\n",
    "    s, t = pp(f,T,fs)\n",
    "    print(t)\n",
    "    plt.plot(t, s, 'o-')\n",
    "    plt.show()\n",
    "    pass"
   ]
  },
  {
   "cell_type": "markdown",
   "id": "9d15f7a1",
   "metadata": {},
   "source": [
    "## Plot activation functions provided in pytorch"
   ]
  },
  {
   "cell_type": "code",
   "execution_count": null,
   "id": "5b229681",
   "metadata": {},
   "outputs": [],
   "source": [
    "import torch\n",
    "from matplotlib.pyplot import cm\n",
    "# create an \"x-axis\" as a PyTorch tensor\n",
    "x = torch.linspace(-2, 2, 10)\n",
    "# list of activations function names as strings \n",
    "l_of_a = ['Sigmoid', 'Tanh', 'ReLU', 'ELU', 'LeakyReLU','Hardsigmoid','Hardswish','LogSigmoid',\n",
    "         'ReLU6','RReLU','SELU','CELU','GELU','SiLU']\n",
    "print(f\"Number of activation functions: {len(l_of_a)}\")\n",
    "plt.figure()\n",
    "\n",
    "from itertools import cycle\n",
    "colors = cycle(['red', 'green', 'blue', 'cyan','magenta','yellow','black', 'orange', 'pink'])\n",
    "markers = cycle(['x','o','^','.','*','+'])\n",
    "#print(colors)\n",
    "for af in l_of_a:\n",
    "    afc = eval(\"torch.nn.\" + af + \"()\")\n",
    "    y = afc(x)\n",
    "    c = next(colors)\n",
    "    m = next(markers)\n",
    "    #print(c)\n",
    "    plt.plot(x.numpy(), y.numpy(), color=c, label=af, marker=m)\n",
    "\n",
    "    \n",
    "plt.xlabel('Input')\n",
    "plt.ylabel('Output')\n",
    "plt.legend()\n",
    "plt.grid()\n",
    "plt.show()\n"
   ]
  },
  {
   "cell_type": "code",
   "execution_count": null,
   "id": "cb480a50",
   "metadata": {},
   "outputs": [],
   "source": []
  },
  {
   "cell_type": "code",
   "execution_count": null,
   "id": "684bb912",
   "metadata": {},
   "outputs": [],
   "source": []
  }
 ],
 "metadata": {
  "kernelspec": {
   "display_name": "Python 3 (py_310)",
   "language": "python",
   "name": "python3"
  },
  "language_info": {
   "codemirror_mode": {
    "name": "ipython",
    "version": 3
   },
   "file_extension": ".py",
   "mimetype": "text/x-python",
   "name": "python",
   "nbconvert_exporter": "python",
   "pygments_lexer": "ipython3",
   "version": "3.10.0"
  }
 },
 "nbformat": 4,
 "nbformat_minor": 5
}
